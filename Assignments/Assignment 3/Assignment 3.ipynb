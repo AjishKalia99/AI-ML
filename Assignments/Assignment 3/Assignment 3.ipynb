{
 "cells": [
  {
   "cell_type": "code",
   "execution_count": 7,
   "metadata": {},
   "outputs": [
    {
     "name": "stdout",
     "output_type": "stream",
     "text": [
      "Enter Porbability of a 11/36\n",
      "Enter Probability of b 6/36\n",
      "Enter Probabilty of a|b 2/36\n",
      "The Proabability P(B|A) is = 0.0303030303030303\n"
     ]
    }
   ],
   "source": [
    "# Question 1\n",
    "# Function for Conditional Probability\n",
    "\n",
    "Pa=float(eval(input(\"Enter Porbability of a \")))\n",
    "Pb=float(eval(input(\"Enter Probability of b \")))\n",
    "Pab=float(eval(input(\"Enter Probabilty of a|b \")))\n",
    "\n",
    "def Conditional(x,y,z):\n",
    "    P_ba=(y*z)/x\n",
    "    return P_ba\n",
    "\n",
    "print(\"The Proabability P(B|A) is =\",end=\" \")\n",
    "print(Conditional(x=Pa,y=Pb,z=Pab))"
   ]
  },
  {
   "cell_type": "code",
   "execution_count": 20,
   "metadata": {},
   "outputs": [
    {
     "name": "stdout",
     "output_type": "stream",
     "text": [
      "Probability of picking a ball from B1 given it was Black=P(B1|Black)= 0.25\n"
     ]
    }
   ],
   "source": [
    "# Question 2\n",
    "# Black and Red ball bags XD\n",
    "\n",
    "#Probability of picking Bag 1= P(B1)= 1/2\n",
    "#Probability of picking black ball=P(Black)= 9/17\n",
    "#Probability of picking a black ball given it came from bag 1=P(Black|B1)=1/2*9/17\n",
    "# Thus,\n",
    "\n",
    "P_B1=float(eval(\"1/2\"))\n",
    "P_Black=float(eval(\"9/17\"))\n",
    "P_Black_From_B1=float(eval(\"(1/2)*(9/17)\"))\n",
    "\n",
    "P_B1_if_Black=(P_B1*P_Black_From_B1)/P_Black\n",
    "\n",
    "print(\"Probability of picking a ball from B1 given it was Black=P(B1|Black)\",end=\"= \")\n",
    "print(P_B1_if_Black)"
   ]
  },
  {
   "cell_type": "code",
   "execution_count": 18,
   "metadata": {},
   "outputs": [
    {
     "name": "stdout",
     "output_type": "stream",
     "text": [
      "[(1, 'T'), (1, 'T'), (1, 'F'), (2, 'T'), (2, 'T'), (2, 'F'), (3, 'T'), (3, 'T'), (3, 'F'), (4, 'T'), (4, 'T'), (4, 'F'), (5, 'T'), (5, 'T'), (5, 'F'), (6, 'T'), (6, 'T'), (6, 'F')]\n",
      "0.1111111111111111\n"
     ]
    }
   ],
   "source": [
    "# Question 3\n",
    "# True False\n",
    "# A man is known to speak truth 2 out of 3 times. \n",
    "# He throws a die and reports that number obtained is a four. Find the probability that the number obtained is actually a four.\n",
    "\n",
    "Truth=[\"T\",\"T\",\"F\"]\n",
    "Sample=[]\n",
    "for i in range(1,7):\n",
    "    for j in Truth:\n",
    "        Sample.append((i,j))\n",
    "        \n",
    "print(Sample)\n",
    "\n",
    "print(float(Sample.count((4,\"T\"))/len(Sample)))"
   ]
  }
 ],
 "metadata": {
  "kernelspec": {
   "display_name": "Python 3",
   "language": "python",
   "name": "python3"
  },
  "language_info": {
   "codemirror_mode": {
    "name": "ipython",
    "version": 3
   },
   "file_extension": ".py",
   "mimetype": "text/x-python",
   "name": "python",
   "nbconvert_exporter": "python",
   "pygments_lexer": "ipython3",
   "version": "3.6.2"
  }
 },
 "nbformat": 4,
 "nbformat_minor": 2
}
